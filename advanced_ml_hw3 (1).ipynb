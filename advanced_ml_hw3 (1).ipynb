{
  "nbformat": 4,
  "nbformat_minor": 0,
  "metadata": {
    "colab": {
      "name": "advanced_ml_hw3.ipynb",
      "provenance": [],
      "collapsed_sections": []
    },
    "kernelspec": {
      "name": "python3",
      "display_name": "Python 3"
    },
    "language_info": {
      "name": "python"
    }
  },
  "cells": [
    {
      "cell_type": "code",
      "source": [
        "import string\n",
        "from random import shuffle"
      ],
      "metadata": {
        "id": "XLtC3OBU3Ytm"
      },
      "execution_count": 180,
      "outputs": []
    },
    {
      "cell_type": "code",
      "execution_count": 1,
      "metadata": {
        "colab": {
          "base_uri": "https://localhost:8080/"
        },
        "id": "XSWQ4RK7zZdn",
        "outputId": "22c7fb1d-295e-45a4-828e-932df0d05aa9"
      },
      "outputs": [
        {
          "output_type": "stream",
          "name": "stdout",
          "text": [
            "--2022-05-09 17:11:54--  https://www.dropbox.com/s/k23enjvr3fb40o5/corpora.zip?dl=0\n",
            "Resolving www.dropbox.com (www.dropbox.com)... 162.125.5.18, 2620:100:601d:18::a27d:512\n",
            "Connecting to www.dropbox.com (www.dropbox.com)|162.125.5.18|:443... connected.\n",
            "HTTP request sent, awaiting response... 301 Moved Permanently\n",
            "Location: /s/raw/k23enjvr3fb40o5/corpora.zip [following]\n",
            "--2022-05-09 17:11:54--  https://www.dropbox.com/s/raw/k23enjvr3fb40o5/corpora.zip\n",
            "Reusing existing connection to www.dropbox.com:443.\n",
            "HTTP request sent, awaiting response... 302 Found\n",
            "Location: https://uc732c8df9025dd7c4b3f28cc33c.dl.dropboxusercontent.com/cd/0/inline/Bk8SkTv-8Ei8PDYNbtT_RyrfqJcoHhyya0Or2DMXSy4aV-rUugZmZih5JUDiSsITFjDt0N-6h_Ce0vzeqbfx498XUY_Ynojg84Yrzfee9DCrImmW79ugvUi7V5TUbjaQrl5aS1Pp9RkGMpp3nUIuMRPMIWELismm3zKOJSzNWd8bZQ/file# [following]\n",
            "--2022-05-09 17:11:55--  https://uc732c8df9025dd7c4b3f28cc33c.dl.dropboxusercontent.com/cd/0/inline/Bk8SkTv-8Ei8PDYNbtT_RyrfqJcoHhyya0Or2DMXSy4aV-rUugZmZih5JUDiSsITFjDt0N-6h_Ce0vzeqbfx498XUY_Ynojg84Yrzfee9DCrImmW79ugvUi7V5TUbjaQrl5aS1Pp9RkGMpp3nUIuMRPMIWELismm3zKOJSzNWd8bZQ/file\n",
            "Resolving uc732c8df9025dd7c4b3f28cc33c.dl.dropboxusercontent.com (uc732c8df9025dd7c4b3f28cc33c.dl.dropboxusercontent.com)... 162.125.5.15, 2620:100:601d:15::a27d:50f\n",
            "Connecting to uc732c8df9025dd7c4b3f28cc33c.dl.dropboxusercontent.com (uc732c8df9025dd7c4b3f28cc33c.dl.dropboxusercontent.com)|162.125.5.15|:443... connected.\n",
            "HTTP request sent, awaiting response... 302 Found\n",
            "Location: /cd/0/inline2/Bk_NqdGdV9B5qqhzgqqniTPf274OZ1-9uBsQ8fWPxqe7BELI-BM1IIkRW8RPUvNkmVUYg3YTY6nkfQiWPSuz2SJFNFadCyGvtFjVH3E5xS8VrrHb1dzIqacXOUnrNrCzbXydmAJsKSKOfYQF34dum9eWqKmhriSMRgqwMgU-pXEQR45EZbmuPJxVPRzM1GJUcipckNlGPZ2vgBf_D7hELDwNvoAMD1m_7Uij1bpxKXm9rdUZyE_z2AA-MvvM5v_UC1ZMIMnQvs35QujnYfD74dZo4KxYS07bvCp7P5vFlS3IFzmi2Cd3PXjJINq4N6iUKjxwx6aIq4067CX3FBFPSHPqgGKdC3kzxBrtYv17GCyroBhmykhSXZ9WtubLyo0OLbCtUD4Y5T-vD6g49b5TaMNrDTyGOMsZR6omyzfICov3IA/file [following]\n",
            "--2022-05-09 17:11:55--  https://uc732c8df9025dd7c4b3f28cc33c.dl.dropboxusercontent.com/cd/0/inline2/Bk_NqdGdV9B5qqhzgqqniTPf274OZ1-9uBsQ8fWPxqe7BELI-BM1IIkRW8RPUvNkmVUYg3YTY6nkfQiWPSuz2SJFNFadCyGvtFjVH3E5xS8VrrHb1dzIqacXOUnrNrCzbXydmAJsKSKOfYQF34dum9eWqKmhriSMRgqwMgU-pXEQR45EZbmuPJxVPRzM1GJUcipckNlGPZ2vgBf_D7hELDwNvoAMD1m_7Uij1bpxKXm9rdUZyE_z2AA-MvvM5v_UC1ZMIMnQvs35QujnYfD74dZo4KxYS07bvCp7P5vFlS3IFzmi2Cd3PXjJINq4N6iUKjxwx6aIq4067CX3FBFPSHPqgGKdC3kzxBrtYv17GCyroBhmykhSXZ9WtubLyo0OLbCtUD4Y5T-vD6g49b5TaMNrDTyGOMsZR6omyzfICov3IA/file\n",
            "Reusing existing connection to uc732c8df9025dd7c4b3f28cc33c.dl.dropboxusercontent.com:443.\n",
            "HTTP request sent, awaiting response... 200 OK\n",
            "Length: 2434585 (2.3M) [application/zip]\n",
            "Saving to: ‘corpora.zip’\n",
            "\n",
            "corpora.zip         100%[===================>]   2.32M  --.-KB/s    in 0.1s    \n",
            "\n",
            "2022-05-09 17:11:56 (18.2 MB/s) - ‘corpora.zip’ saved [2434585/2434585]\n",
            "\n",
            "Archive:  corpora.zip\n",
            "  inflating: AnnaKarenina.txt        \n",
            "  inflating: WarAndPeace.txt         \n",
            "  inflating: WarAndPeaceEng.txt      \n"
          ]
        }
      ],
      "source": [
        "!wget -O corpora.zip https://www.dropbox.com/s/k23enjvr3fb40o5/corpora.zip?dl=0\n",
        "!unzip corpora.zip"
      ]
    },
    {
      "cell_type": "code",
      "source": [
        "def read_file(path):\n",
        "    with open(path, 'r') as f:\n",
        "        data = f.read()\n",
        "    return data\n",
        "\n",
        "def remove_punctuation(str_name):\n",
        "    return str_name.translate(str.maketrans('', '', string.punctuation))\n",
        "  \n",
        "def make_lower_case(str_name):\n",
        "    str_name = str_name.lower()\n",
        "    return str_name.replace('«', '').replace('»', '')"
      ],
      "metadata": {
        "id": "IFsjoSrZzjy8"
      },
      "execution_count": 181,
      "outputs": []
    },
    {
      "cell_type": "code",
      "source": [
        "anna_kar_data = read_file('AnnaKarenina.txt')\n",
        "war_peace_data = read_file('WarAndPeace.txt')\n",
        "war_peace_eng_data = read_file('WarAndPeaceEng.txt')"
      ],
      "metadata": {
        "id": "Yq1QLusezwTh"
      },
      "execution_count": 209,
      "outputs": []
    },
    {
      "cell_type": "markdown",
      "source": [
        "# 1. Базовый частотный метод\n",
        "Реализуйте базовый частотный метод по Шерлоку Холмсу:\n",
        "* подсчитайте частоты букв по корпусам (пунктуацию и капитализацию можно просто опустить, а вот пробелы лучше оставить);\n",
        "* возьмите какие-нибудь тестовые тексты (нужно взять по меньшей мере 2-3 предложения, иначе вряд ли сработает), зашифруйте их посредством случайной перестановки символов;\n",
        "* расшифруйте их таким частотным методом.\n"
      ],
      "metadata": {
        "id": "BXSQyZ2OW6mi"
      }
    },
    {
      "cell_type": "code",
      "source": [
        "test_part = war_peace_data[700575:701565]\n",
        "test_part = test_part.replace('\\n', ' ')\n",
        "test_part = test_part.strip()\n",
        "test_part"
      ],
      "metadata": {
        "colab": {
          "base_uri": "https://localhost:8080/",
          "height": 126
        },
        "id": "pjsax2afGdoH",
        "outputId": "c5a7c164-443d-441f-f169-5b36afac47c0"
      },
      "execution_count": 210,
      "outputs": [
        {
          "output_type": "execute_result",
          "data": {
            "text/plain": [
              "'Один, с белым султаном на шляпе, показался почему-то знакомым Ростову; другой, незнакомый всадник, на прекрасной рыжей лошади (лошадь эта показалась знакомою Ростову) подъехал к канаве, толкнул лошадь шпорами и, выпустив поводья, легко перепрыгнул через канаву огорода. Только земля осыпалась с насыпи от задних копыт лошади. Круто повернув лошадь, он опять назад перепрыгнул канаву и почтительно обратился к всаднику с белым султаном, очевидно, предлагая ему сделать то же. Всадник, которого фигура показалась знакома Ростову и почему-то невольно приковала к себе его внимание, сделал отрицательный жест головой и рукой, и по этому жесту Ростов мгновенно узнал своего оплакиваемого, обожаемого государя.  «Но это не мог быть он, один посреди этого пустого поля», подумал Ростов. В это время Александр повернул голову, и Ростов увидал так живо врезавшиеся в его памяти любимые черты. Государь был бледен, щеки его впали и глаза ввалились; но тем больше прелести, кротости было в его чертах.'"
            ],
            "application/vnd.google.colaboratory.intrinsic+json": {
              "type": "string"
            }
          },
          "metadata": {},
          "execution_count": 210
        }
      ]
    },
    {
      "cell_type": "code",
      "source": [
        "test_part = remove_punctuation(test_part)\n",
        "test_part = make_lower_case(test_part)\n",
        "test_part"
      ],
      "metadata": {
        "colab": {
          "base_uri": "https://localhost:8080/",
          "height": 126
        },
        "id": "RVP2gkG_21Ou",
        "outputId": "969c2ca2-3c64-46e2-9d81-a920177ecfca"
      },
      "execution_count": 211,
      "outputs": [
        {
          "output_type": "execute_result",
          "data": {
            "text/plain": [
              "'один с белым султаном на шляпе показался почемуто знакомым ростову другой незнакомый всадник на прекрасной рыжей лошади лошадь эта показалась знакомою ростову подъехал к канаве толкнул лошадь шпорами и выпустив поводья легко перепрыгнул через канаву огорода только земля осыпалась с насыпи от задних копыт лошади круто повернув лошадь он опять назад перепрыгнул канаву и почтительно обратился к всаднику с белым султаном очевидно предлагая ему сделать то же всадник которого фигура показалась знакома ростову и почемуто невольно приковала к себе его внимание сделал отрицательный жест головой и рукой и по этому жесту ростов мгновенно узнал своего оплакиваемого обожаемого государя  но это не мог быть он один посреди этого пустого поля подумал ростов в это время александр повернул голову и ростов увидал так живо врезавшиеся в его памяти любимые черты государь был бледен щеки его впали и глаза ввалились но тем больше прелести кротости было в его чертах'"
            ],
            "application/vnd.google.colaboratory.intrinsic+json": {
              "type": "string"
            }
          },
          "metadata": {},
          "execution_count": 211
        }
      ]
    },
    {
      "cell_type": "markdown",
      "source": [
        "Проделаем аналогичные действия с исходным текстом (будем игнорировать знаки препинания и переведем все буквы в строчные)."
      ],
      "metadata": {
        "id": "9eCwnvKJJzg2"
      }
    },
    {
      "cell_type": "code",
      "source": [
        "war_peace_data = war_peace_data.replace('\\n', ' ')\n",
        "war_peace_data = war_peace_data.replace('\\t', ' ')\n",
        "war_peace_data = war_peace_data.strip()\n",
        "\n",
        "war_peace_data = remove_punctuation(war_peace_data)\n",
        "war_peace_data = make_lower_case(war_peace_data)\n",
        "war_peace_data[:500]"
      ],
      "metadata": {
        "colab": {
          "base_uri": "https://localhost:8080/",
          "height": 72
        },
        "id": "t9PVa0wMJmKH",
        "outputId": "03bcb9ae-5351-431e-aa98-078a3d2681e1"
      },
      "execution_count": 212,
      "outputs": [
        {
          "output_type": "execute_result",
          "data": {
            "text/plain": [
              "'annotation    война и мир – самый известный роман льва николаевича толстого как никакое другое произведение писателя отражает глубину его мироощущения и философии эта книга из разряда вечных потому что она обо всем – о жизни и смерти о любви и чести о мужестве и героизме о славе и подвиге о войне и мире первый том знакомит с высшим обществом россии xix века показаны взаимоотношения между родителями и детьми в семье ростовых сватовство у болконских интриги у безуховых вечера в салоне фрейлины апш'"
            ],
            "application/vnd.google.colaboratory.intrinsic+json": {
              "type": "string"
            }
          },
          "metadata": {},
          "execution_count": 212
        }
      ]
    },
    {
      "cell_type": "code",
      "source": [
        "from collections import Counter\n",
        "\n",
        "def most_common_letters(text):\n",
        "    counts = Counter(text)\n",
        "    total = sum(counts.values(), 0.0)\n",
        "    for key in counts:\n",
        "        counts[key] /= total\n",
        "    most_common_letters = counts.most_common()\n",
        "    most_common_letters = dict(most_common_letters).keys()\n",
        "    return most_common_letters\n",
        "\n",
        "def encode(text):\n",
        "    letters = list(set(text))\n",
        "    mixed_letters = letters.copy()\n",
        "    shuffle(mixed_letters)\n",
        "    vocab = dict(zip(letters, mixed_letters))\n",
        "    for letter, replacement in vocab.items():\n",
        "        text = text.replace(letter, replacement)\n",
        "    return text\n",
        "\n",
        "def decode(test_text, source_text):\n",
        "    sorted_test = most_common_letters(test_text)\n",
        "    sorted_source = most_common_letters(source_text)\n",
        "    vocab = dict(zip(sorted_test, sorted_source))\n",
        "    for test_letter, source_letter in vocab.items():\n",
        "        test_text = test_text.replace(test_letter, source_letter)\n",
        "    return test_text\n",
        "\n",
        "def accuracy_score(true_val, pred_val):\n",
        "    assert len(true_val) == len(pred_val)\n",
        "    correct = 0\n",
        "    for i in range(len(true_val)):\n",
        "        if true_val[i] == pred_val[i]: \n",
        "            correct += 1\n",
        "    accuracy = correct / len(true_val)\n",
        "    return accuracy"
      ],
      "metadata": {
        "id": "0FqYp5FY3ee9"
      },
      "execution_count": 213,
      "outputs": []
    },
    {
      "cell_type": "markdown",
      "source": [
        "Сверху вниз: оригинальный фрагмент текста, зашифрованный фрагмент, расшифрованный фрагмент. "
      ],
      "metadata": {
        "id": "5EFvJq1zIm1j"
      }
    },
    {
      "cell_type": "code",
      "source": [
        "test_part"
      ],
      "metadata": {
        "colab": {
          "base_uri": "https://localhost:8080/",
          "height": 126
        },
        "id": "46kb8j83IY7w",
        "outputId": "6c9e8994-0dfe-4d05-fe75-52f6cc756848"
      },
      "execution_count": 214,
      "outputs": [
        {
          "output_type": "execute_result",
          "data": {
            "text/plain": [
              "'один с белым султаном на шляпе показался почемуто знакомым ростову другой незнакомый всадник на прекрасной рыжей лошади лошадь эта показалась знакомою ростову подъехал к канаве толкнул лошадь шпорами и выпустив поводья легко перепрыгнул через канаву огорода только земля осыпалась с насыпи от задних копыт лошади круто повернув лошадь он опять назад перепрыгнул канаву и почтительно обратился к всаднику с белым султаном очевидно предлагая ему сделать то же всадник которого фигура показалась знакома ростову и почемуто невольно приковала к себе его внимание сделал отрицательный жест головой и рукой и по этому жесту ростов мгновенно узнал своего оплакиваемого обожаемого государя  но это не мог быть он один посреди этого пустого поля подумал ростов в это время александр повернул голову и ростов увидал так живо врезавшиеся в его памяти любимые черты государь был бледен щеки его впали и глаза ввалились но тем больше прелести кротости было в его чертах'"
            ],
            "application/vnd.google.colaboratory.intrinsic+json": {
              "type": "string"
            }
          },
          "metadata": {},
          "execution_count": 214
        }
      ]
    },
    {
      "cell_type": "code",
      "source": [
        "encoded_text = encode(test_part)\n",
        "encoded_text"
      ],
      "metadata": {
        "colab": {
          "base_uri": "https://localhost:8080/",
          "height": 126
        },
        "id": "ak6cTAIgHWUd",
        "outputId": "622fc090-71bb-47d3-a22d-5435087f5eaf"
      },
      "execution_count": 215,
      "outputs": [
        {
          "output_type": "execute_result",
          "data": {
            "text/plain": [
              "' тдсяся тпвгясгпзлс гяслярпыбтяб длилпсыяб итггз яислд гвгяж сз ргятжгщ вястислд гввярслтсддяслябжтджлсс вяжвлтвяп рлтдяп рлтяяпзляб длилплсяяислд г вяж сз ргяб тзтглпядядлслртяз пдсгпяп рлтяярб жлгдядярвбгсздряб р тяыяптщд ябтжтбжвщсгпяитжтиядлслргя щ ж тляз пяд яитгпыя свблплсяясяслсвбдя зяилтсдгяд бвзяп рлтдяджгз яб ртжсгряп рлтяя ся бызяяслилтябтжтбжвщсгпядлслргядяб издзтпяс я  жлздпсыядярслтсддгяся тпвгясгпзлс гя итрдтс ябжттплщлыятггясттплзяяз ялтярслтсддяд з ж щ ярдщгжляб длилплсяяислд гляж сз ргядяб итггз ястр пяс ябждд рлплядяст тятщ ярсдглсдтясттплпя зждглзтпясввялтсзящ п р вядяжгд вядяб япз ггялтсзгяж сз рягщс ртсс ягислпяср тщ я бплддрлтг щ я   ллтг щ ящ сгтлжыяяс япз ястяг щя взяя ся тдсяб сжттдяпз щ ябгсз щ яб пыяб тгглпяж сз ряряпз яржтгыялптдслстжяб ртжсгпящ п ргядяж сз рягрдтлпязлдялдр яржтилррдтсыярятщ яблгыздяпв дгвтяитжзвящ сгтлжяя впя птттсяцтддятщ ярблпдядящплиляррлпдпдсяяс язтгя  пяртябжтптсздядж з сздя вп ярятщ яитжзлг'"
            ],
            "application/vnd.google.colaboratory.intrinsic+json": {
              "type": "string"
            }
          },
          "metadata": {},
          "execution_count": 215
        }
      ]
    },
    {
      "cell_type": "code",
      "source": [
        "decoded_text = decode(encoded_text, war_peace_data)\n",
        "decoded_text"
      ],
      "metadata": {
        "colab": {
          "base_uri": "https://localhost:8080/",
          "height": 126
        },
        "id": "s1RVsXL9H87o",
        "outputId": "213ecd32-43e9-4ccb-f0de-d4ccbe7bc774"
      },
      "execution_count": 216,
      "outputs": [
        {
          "output_type": "execute_result",
          "data": {
            "text/plain": [
              "'оанеоеооасдтоетсдуеотоеуолспкаоконууусепокоуаттдооуеунотдтороедолтоартмодоеауеунотддолеуаенноеуокранруееодордуадосолуаносолуаоосдуоконууусуеооуеунотодороедолтокоадатусононуеулаодоснетсосолуаоолкорутнонолдктеднлоколоаопосамноокаракрдметсоуарауонуеултоомороауодосонооуатспооедкусуеооеоеуедкноодоууаентонокддосолуанонртдооколаретлосолуаоооеоокпдооеуууаокаракрдметсонуеултонокоудндасоеооооруднсепонолеуаеннтоеооасдтоетсдуеотооуалнаеоокраасумупоаттоеаасудоодооуаолеуаеннонодоромоолнмтруоконууусуеооуеунотуороедолтонокоуаттдооеалосоеоокрннолусуоноеаоаоамоолентуенаоеаасусоодрнтудасоеддоуаедомосолодонортнодонокоосдоттоуаедтороедолотмеолаееоотуеусоелоамоооксуннлуатомоооооууатомоомоетаурпооеоосдооеаотомооддоооеооанеокоерааносдомооктедомоокоспокоаттусороедололосдоолратпоусанеуеароколаретсомосолтонороедолотлнаусодуноунлоолраууллнаеполоамоокутпдносдонтдаоуарддомоетаурооодсоосаааеояанноамоолкуснономсуууоллуснснеооеоодатооосолаокрасаеднонродоедноодсоолоамооуардут'"
            ],
            "application/vnd.google.colaboratory.intrinsic+json": {
              "type": "string"
            }
          },
          "metadata": {},
          "execution_count": 216
        }
      ]
    },
    {
      "cell_type": "code",
      "source": [
        "accuracy = accuracy_score(test_part, decoded_text)\n",
        "print(f'accuracy is {accuracy}')"
      ],
      "metadata": {
        "colab": {
          "base_uri": "https://localhost:8080/"
        },
        "id": "AYRY6qTzIL3Y",
        "outputId": "d632d9e9-5e64-466d-ab5f-e27fc6da1cff"
      },
      "execution_count": 217,
      "outputs": [
        {
          "output_type": "stream",
          "name": "stdout",
          "text": [
            "accuracy is 0.15481171548117154\n"
          ]
        }
      ]
    },
    {
      "cell_type": "markdown",
      "source": [
        "Текст из другой книги (\"Повелитель мух\" У.Голдинг):"
      ],
      "metadata": {
        "id": "DvUoIsfxMrTZ"
      }
    },
    {
      "cell_type": "code",
      "source": [
        "test_part = '''Наконец он отвернулся и посмотрел вниз  на  берег.\n",
        "Костер на площадке,  кажется,  погас, во всяком случае,\n",
        "дыма не было.  Дальше по берегу,  за речушкой,  рядом с\n",
        "плоской скалой робкий дымок взбирался в небо. Забыв про\n",
        "мух,  Саймон смотрел на этот дымок из-под щитков  обеих\n",
        "ладоней.  Даже  с  такого расстояния можно было разгля-\n",
        "деть,  что почти все,  а может,  и все мальчики -  там.\n",
        "Значит,  перебрались - подальше от зверя.  Саймон снова\n",
        "глянул на бедную развалину,  смердевшую у него под  бо-\n",
        "ком.  Зверь  был  безвреден и жуток;  об этом надо было\n",
        "скорей сообщить всем. Саймон бросился вниз, у него под-\n",
        "кашивались  ноги,  он  заставлял себя идти,  но ковылял\n",
        "кое-как.'''"
      ],
      "metadata": {
        "id": "rgGmAo-uLTQ1"
      },
      "execution_count": 218,
      "outputs": []
    },
    {
      "cell_type": "code",
      "source": [
        "test_part = test_part.replace('\\n', ' ')\n",
        "test_part = test_part.strip()\n",
        "test_part = remove_punctuation(test_part)\n",
        "test_part = make_lower_case(test_part)\n",
        "test_part"
      ],
      "metadata": {
        "colab": {
          "base_uri": "https://localhost:8080/",
          "height": 90
        },
        "id": "ckaXrm7VNHig",
        "outputId": "eb06f6a5-4461-4e26-c7af-d6b007119627"
      },
      "execution_count": 219,
      "outputs": [
        {
          "output_type": "execute_result",
          "data": {
            "text/plain": [
              "'наконец он отвернулся и посмотрел вниз  на  берег костер на площадке  кажется  погас во всяком случае дыма не было  дальше по берегу  за речушкой  рядом с плоской скалой робкий дымок взбирался в небо забыв про мух  саймон смотрел на этот дымок изпод щитков  обеих ладоней  даже  с  такого расстояния можно было разгля деть  что почти все  а может  и все мальчики   там значит  перебрались  подальше от зверя  саймон снова глянул на бедную развалину  смердевшую у него под  бо ком  зверь  был  безвреден и жуток  об этом надо было скорей сообщить всем саймон бросился вниз у него под кашивались  ноги  он  заставлял себя идти  но ковылял коекак'"
            ],
            "application/vnd.google.colaboratory.intrinsic+json": {
              "type": "string"
            }
          },
          "metadata": {},
          "execution_count": 219
        }
      ]
    },
    {
      "cell_type": "code",
      "source": [
        "encoded_text = encode(test_part)\n",
        "encoded_text"
      ],
      "metadata": {
        "colab": {
          "base_uri": "https://localhost:8080/",
          "height": 90
        },
        "id": "Lq8Ui7n2NMcT",
        "outputId": "8bb3bc0d-74de-404e-dabb-dc5cf77567f5"
      },
      "execution_count": 220,
      "outputs": [
        {
          "output_type": "execute_result",
          "data": {
            "text/plain": [
              "'жтзгжж ггжггюзжбжзщблгщгюгбягюбжщгзжщнггжтггцжбжсгзгбюжбгжтгющгхтбзжггзтяжюблггюгстбгзггзблзгягбщзхтжгб ятгжжгц щгггбтщцтжгюггцжбжсзггнтгбжхзтзглггблбгягбгющгбзглгбзтщглгбгцзщлгб ягзгзнцщбтщблгзгжжцггнтц згюбггязтггбтлягжгбягюбжщгжтгэюгюгб ягзгщнюгбгхщюзгзгггцжщтгщтбгжжлггбтяжггбггютзгсггбтббюглжщлгягяжггц щггбтнсщлгбжюцггхюггюгхющгзбжггтгягяжюггщгзбжгятщцхщзщгггютягнжтхщюггюжбжцбтщщбцггюгбтщцтжггюгнзжблггбтлягжгбжгзтгсщлжзщгжтгцжбжзвгбтнзтщщжзггбяжббжзтзвгзгжжсггюгбггцггзгяггнзжбцггц щггцжнзбжбжжгщгязюгзгггцгэюгягжтбггц щггбзгбжлгбггцхщюцгзбжягбтлягжгцбгбщщблгзжщнгзгжжсггюгбгзттщзтщщбцггжгсщгггжггнтбютзщлщгбжцлгщбющггжггзгз щлщгзгжзтз'"
            ],
            "application/vnd.google.colaboratory.intrinsic+json": {
              "type": "string"
            }
          },
          "metadata": {},
          "execution_count": 220
        }
      ]
    },
    {
      "cell_type": "code",
      "source": [
        "decoded_text = decode(encoded_text, war_peace_data)\n",
        "decoded_text"
      ],
      "metadata": {
        "colab": {
          "base_uri": "https://localhost:8080/",
          "height": 90
        },
        "id": "R0U2vVKaNR0t",
        "outputId": "a8d3df68-c03b-4cbe-d34b-6e8711f6d59c"
      },
      "execution_count": 221,
      "outputs": [
        {
          "output_type": "execute_result",
          "data": {
            "text/plain": [
              "'арекаакккакктеаоаеиопкикткопктоаикеаирккарккдаоадкекотаокарктикмроеаккерпатопккткдрокеккеопекпкоиемракокпркаакдкикккоридрактккдаоадеккрркоамерекпккопокпкоктикоекпкоерикпкокдеипкокпкекердиориопкекаадккррдкектоккперккорппкакопктоаикаркуткткокпкекирткокмитекекккдаиркирокаапккорпаккокктрекдккорооткпаипкпкпаккдкиккоррдипкоатдккмтккткмтикеоаккркпкпатккикеоакпридмиеиккктрпкрармиткктаоадорииодккткоридраккткреаопккорппкакоакеркдипаеикаркдаоаепкоррерииаеккопаооаерепкекаадккткоккдккекпккреаодккдкиккдареоаоаакикпеткекккдкуткпкароккдкиккоекоапкоккдмитдкеоапкорппкакдокоииопкеаиркекаадккткокерриерииодккакдикккаккрротреипикоадпкиотиккаккекекипикекаере'"
            ],
            "application/vnd.google.colaboratory.intrinsic+json": {
              "type": "string"
            }
          },
          "metadata": {},
          "execution_count": 221
        }
      ]
    },
    {
      "cell_type": "code",
      "source": [
        "accuracy = accuracy_score(test_part, decoded_text)\n",
        "print(f'accuracy is {accuracy}')"
      ],
      "metadata": {
        "colab": {
          "base_uri": "https://localhost:8080/"
        },
        "id": "9bQEJSboNTjN",
        "outputId": "1b529626-858f-42a9-ab12-8cfcd688bb1c"
      },
      "execution_count": 222,
      "outputs": [
        {
          "output_type": "stream",
          "name": "stdout",
          "text": [
            "accuracy is 0.07153965785381027\n"
          ]
        }
      ]
    },
    {
      "cell_type": "markdown",
      "source": [
        "Как видно, результаты вышли довольно плохими."
      ],
      "metadata": {
        "id": "lbsOpcWjapMz"
      }
    },
    {
      "cell_type": "markdown",
      "source": [
        "# 2. Биграммы\n",
        "Вряд ли в результате получилась такая уж хорошая расшифровка, разве что если вы брали в качестве тестовых данных целые рассказы. Но и Шерлок Холмс был не так уж прост: после буквы E, которая действительно выделяется частотой, дальше он анализировал уже конкретные слова и пытался угадать, какими они могли бы быть. Я не знаю, как запрограммировать такой интуитивный анализ, так что давайте просто сделаем следующий логический шаг:\n",
        "* подсчитайте частоты биграмм (т.е. пар последовательных букв) по корпусам;\n",
        "* проведите тестирование аналогично п.1, но при помощи биграмм."
      ],
      "metadata": {
        "id": "hOdVEsBwOOXC"
      }
    },
    {
      "cell_type": "code",
      "source": [
        "import nltk\n",
        "from nltk import bigrams\n",
        "\n",
        "def make_bigramms(text):\n",
        "    bigram_generator = bigrams(text.replace(' ', ''))\n",
        "    bigramms = [''.join(el) for el in bigram_generator]\n",
        "    return bigramms"
      ],
      "metadata": {
        "id": "CUgqm__cORdZ"
      },
      "execution_count": 223,
      "outputs": []
    },
    {
      "cell_type": "code",
      "source": [
        "def bigramms_decode(test_text, source_text):\n",
        "    test_part_bigramms = make_bigramms(test_text)\n",
        "    source_text_bigramms = make_bigramms(source_text)\n",
        "    sorted_test = most_common_letters(test_part_bigramms)\n",
        "    sorted_source = most_common_letters(source_text_bigramms)\n",
        "    vocab = dict(zip(sorted_test, sorted_source))\n",
        "    for test_letter, source_letter in vocab.items():\n",
        "        test_text = test_text.replace(test_letter, source_letter)\n",
        "    return test_text"
      ],
      "metadata": {
        "id": "n_Y4h2SAQ-VN"
      },
      "execution_count": 224,
      "outputs": []
    },
    {
      "cell_type": "code",
      "source": [
        "test_part"
      ],
      "metadata": {
        "colab": {
          "base_uri": "https://localhost:8080/",
          "height": 90
        },
        "id": "53zk8km7Qxgw",
        "outputId": "c7896f62-36af-48dd-989e-069e3c5a6d69"
      },
      "execution_count": 225,
      "outputs": [
        {
          "output_type": "execute_result",
          "data": {
            "text/plain": [
              "'наконец он отвернулся и посмотрел вниз  на  берег костер на площадке  кажется  погас во всяком случае дыма не было  дальше по берегу  за речушкой  рядом с плоской скалой робкий дымок взбирался в небо забыв про мух  саймон смотрел на этот дымок изпод щитков  обеих ладоней  даже  с  такого расстояния можно было разгля деть  что почти все  а может  и все мальчики   там значит  перебрались  подальше от зверя  саймон снова глянул на бедную развалину  смердевшую у него под  бо ком  зверь  был  безвреден и жуток  об этом надо было скорей сообщить всем саймон бросился вниз у него под кашивались  ноги  он  заставлял себя идти  но ковылял коекак'"
            ],
            "application/vnd.google.colaboratory.intrinsic+json": {
              "type": "string"
            }
          },
          "metadata": {},
          "execution_count": 225
        }
      ]
    },
    {
      "cell_type": "code",
      "source": [
        "encoded_text = encode(test_part)\n",
        "encoded_text"
      ],
      "metadata": {
        "colab": {
          "base_uri": "https://localhost:8080/",
          "height": 90
        },
        "id": "qswiBrU6Qt1k",
        "outputId": "7655589d-6aca-450f-b7c8-9298f3dc513a"
      },
      "execution_count": 226,
      "outputs": [
        {
          "output_type": "execute_result",
          "data": {
            "text/plain": [
              "'х ззх ицзхцззщ юхцтютцацлзюиззю тцщхачццх ццв ю гцззюз юцх цлтзл бз ццз з зютццлзг юцщзцщютззицютцд  цбщи цх цвщтзццб тйч цлзцв ю гцццч цю дцчззйццютбзицюцлтзюззйцюз тзйцюзвзайцбщиззцщчваю тютцщцх взцч вщщцлюзцицсццю йизхцюиззю тцх цэзззцбщиззцачлзбцлазззщццзв асцт бзх йццб з ццюццз ззгзцю ююззтхатциззхзцвщтзцю чгттцб зйццдззцлздзацщю цц цизз зццацщю ци тйдазацццз ицчх дазццл ю вю таюйццлзб тйч цззцчщ ютццю йизхцюхзщ цгттхцтцх цв бхцнцю чщ тахцццюи юб щчцнцццх гзцлзбццвзцззиццчщ юйццвщтццв чщю б хцацзцзззццзвцэззицх бзцвщтзцюззю йцюззвлазйцщю ицю йизхцвюзюатютцщхачцццх гзцлзбцз чащ таюйццхзгаццзхццч юз щтттцю втцабзаццхзцззщщтттцзз з з'"
            ],
            "application/vnd.google.colaboratory.intrinsic+json": {
              "type": "string"
            }
          },
          "metadata": {},
          "execution_count": 226
        }
      ]
    },
    {
      "cell_type": "code",
      "source": [
        "decoded_text = bigramms_decode(encoded_text, war_peace_data)\n",
        "decoded_text"
      ],
      "metadata": {
        "colab": {
          "base_uri": "https://localhost:8080/",
          "height": 90
        },
        "id": "uiq2u6O8Qy62",
        "outputId": "e68cf5cb-94b8-4f1d-f10b-429198b3249c"
      },
      "execution_count": 227,
      "outputs": [
        {
          "output_type": "execute_result",
          "data": {
            "text/plain": [
              "'х сая иалгостщ тиоиснеанокаисис недеиптох тов ю ойстос юко нолил ор тоз з зонтоолг дионшионстиовнед  прде ко рароамоб обч нонав ю меоан ов нунсовиоонориовноткслобоет лийоннсеспоилисненялсе иснещко вназ трщноюнаенстою йоаяовисис нех едстнаилиснеазоикносллироосл слем бло йтоб з тооноз стгнле чесннивнеисаянавронле чменеб рылодснеолдесвою то скст амоавою ск обнуестоал енэт динтол ю ог ылсятооик обч хонете онтою йоаяовомщ шеннгонех ра бгонов те иаятоови се щелнтоко гнаолвиовнслтылоте сятовротов чер б гонинсллылоаруэстико бнавронлесис йовстлсинпоер иов йотговосожиснедеиптоко гнаоикал оощ ылсятооммеролоточ ос роннов внеаортрохнслтщротнест з з'"
            ],
            "application/vnd.google.colaboratory.intrinsic+json": {
              "type": "string"
            }
          },
          "metadata": {},
          "execution_count": 227
        }
      ]
    },
    {
      "cell_type": "code",
      "source": [
        "accuracy = accuracy_score(test_part, decoded_text)\n",
        "print(f'accuracy is {accuracy}')"
      ],
      "metadata": {
        "colab": {
          "base_uri": "https://localhost:8080/"
        },
        "id": "MprPH245SFZh",
        "outputId": "32bdfe40-af8a-4043-b0c7-da42cd05a6c8"
      },
      "execution_count": 228,
      "outputs": [
        {
          "output_type": "stream",
          "name": "stdout",
          "text": [
            "accuracy is 0.04821150855365474\n"
          ]
        }
      ]
    },
    {
      "cell_type": "markdown",
      "source": [
        "# 3. MCMC-сэмплирование\n",
        "Но и это ещё не всё: биграммы скорее всего тоже далеко не всегда работают. Основная часть задания — в том, как можно их улучшить:\n",
        "* предложите метод обучения перестановки символов в этом задании, основанный на MCMC-сэмплировании, но по-прежнему работающий на основе статистики биграмм;\n",
        "* реализуйте и протестируйте его, убедитесь, что результаты улучшились.\n"
      ],
      "metadata": {
        "id": "UDjfSjcwXIQq"
      }
    },
    {
      "cell_type": "markdown",
      "source": [
        "На основании [статьи](https://towardsdatascience.com/applications-of-mcmc-for-cryptography-and-optimization-1f99222b7132) можно предложить следующую идею:\n",
        "* начинаем с выбора случайного ключа и оцениваем вероятность того, насколько расшифровка с ним верна\n",
        "* меняем местами два случайных ключа\n",
        "* делаем расшифровку с ключом c прошлого шага и оцениваем вероятность того, насколько расшифровка с ним верна\n",
        "* если оценка вероятности верной расшифровки больше, чем на предыдущем шаге, используем полученный результат далее\n",
        "* в противном случае \"подкидываем монету\", которая с вероятностью текущий_скор/предыдущий_скор выпадет орлом\n",
        "* повторяем все со 2-го шага"
      ],
      "metadata": {
        "id": "ZyxEhYq_cZJd"
      }
    }
  ]
}