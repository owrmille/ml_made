{
  "nbformat": 4,
  "nbformat_minor": 0,
  "metadata": {
    "colab": {
      "name": "advanced_ml_hw3.ipynb",
      "provenance": [],
      "collapsed_sections": []
    },
    "kernelspec": {
      "name": "python3",
      "display_name": "Python 3"
    },
    "language_info": {
      "name": "python"
    }
  },
  "cells": [
    {
      "cell_type": "code",
      "source": [
        "import string\n",
        "from random import shuffle"
      ],
      "metadata": {
        "id": "XLtC3OBU3Ytm"
      },
      "execution_count": 34,
      "outputs": []
    },
    {
      "cell_type": "code",
      "execution_count": 1,
      "metadata": {
        "colab": {
          "base_uri": "https://localhost:8080/"
        },
        "id": "XSWQ4RK7zZdn",
        "outputId": "22c7fb1d-295e-45a4-828e-932df0d05aa9"
      },
      "outputs": [
        {
          "output_type": "stream",
          "name": "stdout",
          "text": [
            "--2022-05-09 17:11:54--  https://www.dropbox.com/s/k23enjvr3fb40o5/corpora.zip?dl=0\n",
            "Resolving www.dropbox.com (www.dropbox.com)... 162.125.5.18, 2620:100:601d:18::a27d:512\n",
            "Connecting to www.dropbox.com (www.dropbox.com)|162.125.5.18|:443... connected.\n",
            "HTTP request sent, awaiting response... 301 Moved Permanently\n",
            "Location: /s/raw/k23enjvr3fb40o5/corpora.zip [following]\n",
            "--2022-05-09 17:11:54--  https://www.dropbox.com/s/raw/k23enjvr3fb40o5/corpora.zip\n",
            "Reusing existing connection to www.dropbox.com:443.\n",
            "HTTP request sent, awaiting response... 302 Found\n",
            "Location: https://uc732c8df9025dd7c4b3f28cc33c.dl.dropboxusercontent.com/cd/0/inline/Bk8SkTv-8Ei8PDYNbtT_RyrfqJcoHhyya0Or2DMXSy4aV-rUugZmZih5JUDiSsITFjDt0N-6h_Ce0vzeqbfx498XUY_Ynojg84Yrzfee9DCrImmW79ugvUi7V5TUbjaQrl5aS1Pp9RkGMpp3nUIuMRPMIWELismm3zKOJSzNWd8bZQ/file# [following]\n",
            "--2022-05-09 17:11:55--  https://uc732c8df9025dd7c4b3f28cc33c.dl.dropboxusercontent.com/cd/0/inline/Bk8SkTv-8Ei8PDYNbtT_RyrfqJcoHhyya0Or2DMXSy4aV-rUugZmZih5JUDiSsITFjDt0N-6h_Ce0vzeqbfx498XUY_Ynojg84Yrzfee9DCrImmW79ugvUi7V5TUbjaQrl5aS1Pp9RkGMpp3nUIuMRPMIWELismm3zKOJSzNWd8bZQ/file\n",
            "Resolving uc732c8df9025dd7c4b3f28cc33c.dl.dropboxusercontent.com (uc732c8df9025dd7c4b3f28cc33c.dl.dropboxusercontent.com)... 162.125.5.15, 2620:100:601d:15::a27d:50f\n",
            "Connecting to uc732c8df9025dd7c4b3f28cc33c.dl.dropboxusercontent.com (uc732c8df9025dd7c4b3f28cc33c.dl.dropboxusercontent.com)|162.125.5.15|:443... connected.\n",
            "HTTP request sent, awaiting response... 302 Found\n",
            "Location: /cd/0/inline2/Bk_NqdGdV9B5qqhzgqqniTPf274OZ1-9uBsQ8fWPxqe7BELI-BM1IIkRW8RPUvNkmVUYg3YTY6nkfQiWPSuz2SJFNFadCyGvtFjVH3E5xS8VrrHb1dzIqacXOUnrNrCzbXydmAJsKSKOfYQF34dum9eWqKmhriSMRgqwMgU-pXEQR45EZbmuPJxVPRzM1GJUcipckNlGPZ2vgBf_D7hELDwNvoAMD1m_7Uij1bpxKXm9rdUZyE_z2AA-MvvM5v_UC1ZMIMnQvs35QujnYfD74dZo4KxYS07bvCp7P5vFlS3IFzmi2Cd3PXjJINq4N6iUKjxwx6aIq4067CX3FBFPSHPqgGKdC3kzxBrtYv17GCyroBhmykhSXZ9WtubLyo0OLbCtUD4Y5T-vD6g49b5TaMNrDTyGOMsZR6omyzfICov3IA/file [following]\n",
            "--2022-05-09 17:11:55--  https://uc732c8df9025dd7c4b3f28cc33c.dl.dropboxusercontent.com/cd/0/inline2/Bk_NqdGdV9B5qqhzgqqniTPf274OZ1-9uBsQ8fWPxqe7BELI-BM1IIkRW8RPUvNkmVUYg3YTY6nkfQiWPSuz2SJFNFadCyGvtFjVH3E5xS8VrrHb1dzIqacXOUnrNrCzbXydmAJsKSKOfYQF34dum9eWqKmhriSMRgqwMgU-pXEQR45EZbmuPJxVPRzM1GJUcipckNlGPZ2vgBf_D7hELDwNvoAMD1m_7Uij1bpxKXm9rdUZyE_z2AA-MvvM5v_UC1ZMIMnQvs35QujnYfD74dZo4KxYS07bvCp7P5vFlS3IFzmi2Cd3PXjJINq4N6iUKjxwx6aIq4067CX3FBFPSHPqgGKdC3kzxBrtYv17GCyroBhmykhSXZ9WtubLyo0OLbCtUD4Y5T-vD6g49b5TaMNrDTyGOMsZR6omyzfICov3IA/file\n",
            "Reusing existing connection to uc732c8df9025dd7c4b3f28cc33c.dl.dropboxusercontent.com:443.\n",
            "HTTP request sent, awaiting response... 200 OK\n",
            "Length: 2434585 (2.3M) [application/zip]\n",
            "Saving to: ‘corpora.zip’\n",
            "\n",
            "corpora.zip         100%[===================>]   2.32M  --.-KB/s    in 0.1s    \n",
            "\n",
            "2022-05-09 17:11:56 (18.2 MB/s) - ‘corpora.zip’ saved [2434585/2434585]\n",
            "\n",
            "Archive:  corpora.zip\n",
            "  inflating: AnnaKarenina.txt        \n",
            "  inflating: WarAndPeace.txt         \n",
            "  inflating: WarAndPeaceEng.txt      \n"
          ]
        }
      ],
      "source": [
        "!wget -O corpora.zip https://www.dropbox.com/s/k23enjvr3fb40o5/corpora.zip?dl=0\n",
        "!unzip corpora.zip"
      ]
    },
    {
      "cell_type": "code",
      "source": [
        "def read_file(path):\n",
        "    with open(path, 'r') as f:\n",
        "        data = f.read()\n",
        "    return data\n",
        "\n",
        "def remove_punctuation(str_name):\n",
        "    return str_name.translate(str.maketrans('', '', string.punctuation))\n",
        "  \n",
        "def make_lower_case(str_name):\n",
        "    str_name = str_name.lower()\n",
        "    return str_name.replace('«', '').replace('»', '')"
      ],
      "metadata": {
        "id": "IFsjoSrZzjy8"
      },
      "execution_count": 78,
      "outputs": []
    },
    {
      "cell_type": "code",
      "source": [
        "anna_kar_data = read_file('AnnaKarenina.txt')\n",
        "war_peace_data = read_file('WarAndPeace.txt')\n",
        "war_peace_eng_data = read_file('WarAndPeaceEng.txt')"
      ],
      "metadata": {
        "id": "Yq1QLusezwTh"
      },
      "execution_count": 3,
      "outputs": []
    },
    {
      "cell_type": "code",
      "source": [
        "test_part = war_peace_data[700575:701565]\n",
        "test_part = test_part.replace('\\n', ' ')\n",
        "test_part = test_part.strip()\n",
        "test_part"
      ],
      "metadata": {
        "colab": {
          "base_uri": "https://localhost:8080/",
          "height": 126
        },
        "id": "pjsax2afGdoH",
        "outputId": "aef5964e-c882-49c8-91cb-2e20c05f05fa"
      },
      "execution_count": 79,
      "outputs": [
        {
          "output_type": "execute_result",
          "data": {
            "text/plain": [
              "'Один, с белым султаном на шляпе, показался почему-то знакомым Ростову; другой, незнакомый всадник, на прекрасной рыжей лошади (лошадь эта показалась знакомою Ростову) подъехал к канаве, толкнул лошадь шпорами и, выпустив поводья, легко перепрыгнул через канаву огорода. Только земля осыпалась с насыпи от задних копыт лошади. Круто повернув лошадь, он опять назад перепрыгнул канаву и почтительно обратился к всаднику с белым султаном, очевидно, предлагая ему сделать то же. Всадник, которого фигура показалась знакома Ростову и почему-то невольно приковала к себе его внимание, сделал отрицательный жест головой и рукой, и по этому жесту Ростов мгновенно узнал своего оплакиваемого, обожаемого государя.  «Но это не мог быть он, один посреди этого пустого поля», подумал Ростов. В это время Александр повернул голову, и Ростов увидал так живо врезавшиеся в его памяти любимые черты. Государь был бледен, щеки его впали и глаза ввалились; но тем больше прелести, кротости было в его чертах.'"
            ],
            "application/vnd.google.colaboratory.intrinsic+json": {
              "type": "string"
            }
          },
          "metadata": {},
          "execution_count": 79
        }
      ]
    },
    {
      "cell_type": "code",
      "source": [
        "test_part = remove_punctuation(test_part)\n",
        "test_part = make_lower_case(test_part)\n",
        "test_part"
      ],
      "metadata": {
        "colab": {
          "base_uri": "https://localhost:8080/",
          "height": 126
        },
        "id": "RVP2gkG_21Ou",
        "outputId": "910df727-a0d1-4f1b-9f24-005a69cff2fe"
      },
      "execution_count": 80,
      "outputs": [
        {
          "output_type": "execute_result",
          "data": {
            "text/plain": [
              "'один с белым султаном на шляпе показался почемуто знакомым ростову другой незнакомый всадник на прекрасной рыжей лошади лошадь эта показалась знакомою ростову подъехал к канаве толкнул лошадь шпорами и выпустив поводья легко перепрыгнул через канаву огорода только земля осыпалась с насыпи от задних копыт лошади круто повернув лошадь он опять назад перепрыгнул канаву и почтительно обратился к всаднику с белым султаном очевидно предлагая ему сделать то же всадник которого фигура показалась знакома ростову и почемуто невольно приковала к себе его внимание сделал отрицательный жест головой и рукой и по этому жесту ростов мгновенно узнал своего оплакиваемого обожаемого государя  но это не мог быть он один посреди этого пустого поля подумал ростов в это время александр повернул голову и ростов увидал так живо врезавшиеся в его памяти любимые черты государь был бледен щеки его впали и глаза ввалились но тем больше прелести кротости было в его чертах'"
            ],
            "application/vnd.google.colaboratory.intrinsic+json": {
              "type": "string"
            }
          },
          "metadata": {},
          "execution_count": 80
        }
      ]
    },
    {
      "cell_type": "markdown",
      "source": [
        "Проделаем аналогичные действия с исходным текстом (будем игнорировать знаки препинания и переведем все буквы в строчные)."
      ],
      "metadata": {
        "id": "9eCwnvKJJzg2"
      }
    },
    {
      "cell_type": "code",
      "source": [
        "war_peace_data = war_peace_data.replace('\\n', ' ')\n",
        "war_peace_data = war_peace_data.replace('\\t', ' ')\n",
        "war_peace_data = war_peace_data.strip()\n",
        "\n",
        "war_peace_data = remove_punctuation(war_peace_data)\n",
        "war_peace_data = make_lower_case(war_peace_data)\n",
        "war_peace_data[:500]"
      ],
      "metadata": {
        "colab": {
          "base_uri": "https://localhost:8080/",
          "height": 72
        },
        "id": "t9PVa0wMJmKH",
        "outputId": "6d35b28c-26de-43bb-fc17-be07960e6038"
      },
      "execution_count": 93,
      "outputs": [
        {
          "output_type": "execute_result",
          "data": {
            "text/plain": [
              "'annotation    война и мир – самый известный роман льва николаевича толстого как никакое другое произведение писателя отражает глубину его мироощущения и философии эта книга из разряда вечных потому что она обо всем – о жизни и смерти о любви и чести о мужестве и героизме о славе и подвиге о войне и мире первый том знакомит с высшим обществом россии xix века показаны взаимоотношения между родителями и детьми в семье ростовых сватовство у болконских интриги у безуховых вечера в салоне фрейлины апш'"
            ],
            "application/vnd.google.colaboratory.intrinsic+json": {
              "type": "string"
            }
          },
          "metadata": {},
          "execution_count": 93
        }
      ]
    },
    {
      "cell_type": "code",
      "source": [
        "from collections import Counter\n",
        "\n",
        "def most_common_letters(text):\n",
        "    counts = Counter(text)\n",
        "    total = sum(counts.values(), 0.0)\n",
        "    for key in counts:\n",
        "        counts[key] /= total\n",
        "    most_common_letters = counts.most_common()\n",
        "    most_common_letters = dict(most_common_letters).keys()\n",
        "    return most_common_letters\n",
        "\n",
        "def encode(text):\n",
        "    letters = list(set(text))\n",
        "    mixed_letters = letters.copy()\n",
        "    shuffle(mixed_letters)\n",
        "    vocab = dict(zip(letters, mixed_letters))\n",
        "    for letter, replacement in vocab.items():\n",
        "        text = text.replace(letter, replacement)\n",
        "    return text\n",
        "\n",
        "def decode(test_text, source_text):\n",
        "    sorted_test = most_common_letters(test_text)\n",
        "    sorted_source = most_common_letters(source_text)\n",
        "    vocab = dict(zip(sorted_test, sorted_source))\n",
        "    try:\n",
        "        for test_letter, source_letter in vocab.items():\n",
        "            test_text = test_text.replace(test_letter, source_letter)\n",
        "    except:\n",
        "        test_text = ''.join(test_text)\n",
        "        source_text = ''.join(source_text)\n",
        "        for test_letter, source_letter in vocab.items():\n",
        "            test_text = test_text.replace(test_letter, source_letter)\n",
        "    return test_text\n",
        "\n",
        "def accuracy_score(true_val, pred_val):\n",
        "    assert len(true_val) == len(pred_val)\n",
        "    correct = 0\n",
        "    for i in range(len(true_val)):\n",
        "        if true_val[i] == pred_val[i]: \n",
        "            correct += 1\n",
        "    accuracy = correct / len(true_val)\n",
        "    return accuracy"
      ],
      "metadata": {
        "id": "0FqYp5FY3ee9"
      },
      "execution_count": 145,
      "outputs": []
    },
    {
      "cell_type": "code",
      "source": [
        "test_part"
      ],
      "metadata": {
        "colab": {
          "base_uri": "https://localhost:8080/",
          "height": 126
        },
        "id": "46kb8j83IY7w",
        "outputId": "9ac84459-843e-4697-c12b-d2aead5b9776"
      },
      "execution_count": 91,
      "outputs": [
        {
          "output_type": "execute_result",
          "data": {
            "text/plain": [
              "'один с белым султаном на шляпе показался почемуто знакомым ростову другой незнакомый всадник на прекрасной рыжей лошади лошадь эта показалась знакомою ростову подъехал к канаве толкнул лошадь шпорами и выпустив поводья легко перепрыгнул через канаву огорода только земля осыпалась с насыпи от задних копыт лошади круто повернув лошадь он опять назад перепрыгнул канаву и почтительно обратился к всаднику с белым султаном очевидно предлагая ему сделать то же всадник которого фигура показалась знакома ростову и почемуто невольно приковала к себе его внимание сделал отрицательный жест головой и рукой и по этому жесту ростов мгновенно узнал своего оплакиваемого обожаемого государя  но это не мог быть он один посреди этого пустого поля подумал ростов в это время александр повернул голову и ростов увидал так живо врезавшиеся в его памяти любимые черты государь был бледен щеки его впали и глаза ввалились но тем больше прелести кротости было в его чертах'"
            ],
            "application/vnd.google.colaboratory.intrinsic+json": {
              "type": "string"
            }
          },
          "metadata": {},
          "execution_count": 91
        }
      ]
    },
    {
      "cell_type": "code",
      "source": [
        "encoded_text = encode(test_part)\n",
        "encoded_text"
      ],
      "metadata": {
        "colab": {
          "base_uri": "https://localhost:8080/",
          "height": 126
        },
        "id": "ak6cTAIgHWUd",
        "outputId": "36a21ac0-3a45-4394-d95e-afad0d820ca3"
      },
      "execution_count": 86,
      "outputs": [
        {
          "output_type": "execute_result",
          "data": {
            "text/plain": [
              "'цжъцлзлсб нжлзг увццжлцвлз с бл цсвщв зсл цебжгуцлщцвсцжнжлуцзуцеглжугтцзлцбщцвсцжнзлезвжцъслцвл убсувзццзлуннбзл цзвжъл цзвжтлнувл цсвщв взтлщцвсцжцилуцзуцегл цжюбжв лслсвцвеблуц сцг л цзвжтлз цувжълълен гзуъел цецжтсл бтсцл буб унтцг лебубщлсвцвеглцтцуцжвлуц тсцлщбж слцзн в взтлзлцвзн ълцулщвжцъжлсц нул цзвжълсугуцл цебуцгел цзвжтлццлц сутлцвщвжл буб унтцг лсвцвеглъл цеуъуб тццлцсувуъ зслслезвжцъсглзлсб нжлзг увццжлцебеъжццл убж втвслбжглзжб вутлуцлнблезвжцъслсцуцуцтцлиътгувл цсвщв взтлщцвсцжвлуцзуцеглъл цебжгуцлцбец тццл уъсцев влслзбсблбтцлецъжвцъблзжб в лцууъввуб тцнзлнбзултц цецзлълугсцзлъл цлнуцжглнбзуглуцзуцелжтццебцццлгщцв лзецбтцлц  всъевбжцтцлцсцнвбжцтцлтцзгжвусллццлнуцлцблжцтлснутлццлцжъцл цзубжълнуцтцл гзуцтцл ц сл цжгжв луцзуцелелнуцлеубжслв бсзвцжул цебуцг лтц цеглълуцзуцелгеъжв лувслнъецлеубщвезъбзслелбтцл вжсуъл исъжнблебуунлтцзгжвутлсн лс бжбцлжбсълбтцле в ълълт вщвлеев ъ ъзтлццлубжлсц тзбл уб бзуълсуцуцзуълсн цлелбтцлебуувж'"
            ],
            "application/vnd.google.colaboratory.intrinsic+json": {
              "type": "string"
            }
          },
          "metadata": {},
          "execution_count": 86
        }
      ]
    },
    {
      "cell_type": "code",
      "source": [
        "decoded_text = decode(test_part, war_peace_data)\n",
        "decoded_text"
      ],
      "metadata": {
        "colab": {
          "base_uri": "https://localhost:8080/",
          "height": 126
        },
        "id": "s1RVsXL9H87o",
        "outputId": "7e74bd3c-00de-4647-ffce-881a5f6f0407"
      },
      "execution_count": 95,
      "outputs": [
        {
          "output_type": "execute_result",
          "data": {
            "text/plain": [
              "'оулн л белгп лултаноп на шлзпе попаыаллз пошепуто ынапопгп ролтову урузош неынапопгш влаунлп на препралнош ргшеш лошаул лошауь eта попаыалаль ынапопо— ролтову поуюеeал п панаве толпнул лошауь шпорапл л вгпултлв повоуьз лезпо перепргзнул шереы панаву озороуа тольпо ыеплз олгпалаль л налгпл от ыаунлe попгт лошаул пруто повернув лошауь он опзть наыау перепргзнул панаву л поштлтельно обратлллз п влаунлпу л белгп лултаноп ошевлуно преулазаз епу луелать то ше влаунлп поторозо nлзура попаыалаль ынапопа ролтову л пошепуто невольно прлповала п лебе езо внлпанле луелал отрлnательнгш шелт золовош л рупош л по eтопу шелту ролтов пзновенно уынал лвоезо оплаплваепозо обошаепозо золууарз  но eто не поз бгть он оулн полреул eтозо пултозо полз поуупал ролтов в eто врепз алепланур повернул золову л ролтов увлуал тап шлво вреыавшлелз в езо папзтл л—блпге шертг золууарь бгл блеуен sепл езо впалл л злаыа вваллллль но теп больше прелелтл протолтл бгло в езо шертаe'"
            ],
            "application/vnd.google.colaboratory.intrinsic+json": {
              "type": "string"
            }
          },
          "metadata": {},
          "execution_count": 95
        }
      ]
    },
    {
      "cell_type": "markdown",
      "source": [
        "Сверху вниз: оригинальный фрагмент текста, зашифрованный фрагмент, расшифрованный фрагмент. \n",
        "\n",
        "Как видно, некоторые буквы хорошо расшифровались (\"было\" - \"бгло\", \"почему-то\" - \"пошепуто\", \"чертах\" - \"шертаe\" и т.д.), пробелы стоят на своих местах. "
      ],
      "metadata": {
        "id": "5EFvJq1zIm1j"
      }
    },
    {
      "cell_type": "code",
      "source": [
        "accuracy = accuracy_score(test_part, decoded_text)\n",
        "print(f'accuracy is {accuracy}')"
      ],
      "metadata": {
        "colab": {
          "base_uri": "https://localhost:8080/"
        },
        "id": "AYRY6qTzIL3Y",
        "outputId": "b516eb88-bfde-4781-e2fa-b2f337c39d2c"
      },
      "execution_count": 147,
      "outputs": [
        {
          "output_type": "stream",
          "name": "stdout",
          "text": [
            "accuracy is 0.3312597200622084\n"
          ]
        }
      ]
    },
    {
      "cell_type": "markdown",
      "source": [
        "Текст из другой книги (\"Повелитель мух\" У.Голдинг):"
      ],
      "metadata": {
        "id": "DvUoIsfxMrTZ"
      }
    },
    {
      "cell_type": "code",
      "source": [
        "test_part = '''Наконец он отвернулся и посмотрел вниз  на  берег.\n",
        "Костер на площадке,  кажется,  погас, во всяком случае,\n",
        "дыма не было.  Дальше по берегу,  за речушкой,  рядом с\n",
        "плоской скалой робкий дымок взбирался в небо. Забыв про\n",
        "мух,  Саймон смотрел на этот дымок из-под щитков  обеих\n",
        "ладоней.  Даже  с  такого расстояния можно было разгля-\n",
        "деть,  что почти все,  а может,  и все мальчики -  там.\n",
        "Значит,  перебрались - подальше от зверя.  Саймон снова\n",
        "глянул на бедную развалину,  смердевшую у него под  бо-\n",
        "ком.  Зверь  был  безвреден и жуток;  об этом надо было\n",
        "скорей сообщить всем. Саймон бросился вниз, у него под-\n",
        "кашивались  ноги,  он  заставлял себя идти,  но ковылял\n",
        "кое-как.'''"
      ],
      "metadata": {
        "id": "rgGmAo-uLTQ1"
      },
      "execution_count": 148,
      "outputs": []
    },
    {
      "cell_type": "code",
      "source": [
        "test_part = test_part.replace('\\n', ' ')\n",
        "test_part = test_part.strip()\n",
        "test_part = remove_punctuation(test_part)\n",
        "test_part = make_lower_case(test_part)\n",
        "test_part"
      ],
      "metadata": {
        "colab": {
          "base_uri": "https://localhost:8080/",
          "height": 90
        },
        "id": "ckaXrm7VNHig",
        "outputId": "434602e6-f146-4a7f-dccb-1e754d8d89bd"
      },
      "execution_count": 149,
      "outputs": [
        {
          "output_type": "execute_result",
          "data": {
            "text/plain": [
              "'наконец он отвернулся и посмотрел вниз  на  берег костер на площадке  кажется  погас во всяком случае дыма не было  дальше по берегу  за речушкой  рядом с плоской скалой робкий дымок взбирался в небо забыв про мух  саймон смотрел на этот дымок изпод щитков  обеих ладоней  даже  с  такого расстояния можно было разгля деть  что почти все  а может  и все мальчики   там значит  перебрались  подальше от зверя  саймон снова глянул на бедную развалину  смердевшую у него под  бо ком  зверь  был  безвреден и жуток  об этом надо было скорей сообщить всем саймон бросился вниз у него под кашивались  ноги  он  заставлял себя идти  но ковылял коекак'"
            ],
            "application/vnd.google.colaboratory.intrinsic+json": {
              "type": "string"
            }
          },
          "metadata": {},
          "execution_count": 149
        }
      ]
    },
    {
      "cell_type": "code",
      "source": [
        "encoded_text = encode(test_part)\n",
        "encoded_text"
      ],
      "metadata": {
        "colab": {
          "base_uri": "https://localhost:8080/",
          "height": 90
        },
        "id": "Lq8Ui7n2NMcT",
        "outputId": "9578a0cb-f5c9-4ac2-9259-316841c30685"
      },
      "execution_count": 150,
      "outputs": [
        {
          "output_type": "execute_result",
          "data": {
            "text/plain": [
              "'дщцпдтвппдппидтцдщеювпжпцпюипицтепдджхппдщппзтцтлпцпюитцпдщпцеплщсцтппцщптиювппцплщюпдппдювцпипюещдщтпсщищпдтпзщепппсщееютпцппзтцтлщппхщпцтдщюцпзппцвспипюпцепюцпзпюцщепзпцпзцжзпсщипцпдхзжцщеювпдпдтзппхщзщдпццппищзппющзипдпюипицтепдщпеипипсщипцпжхцпсплжицпдпппзтжзпещспдтзппсщптппюппищцплппцщююипвджвпиппдппзщеппцщхлевпстиеппдиппцпдижпдютппщпипптиппжпдютпищееджцжпппищипхдщджиппцтцтзцщежюеппцпсщееютппипхдтцвппющзипдпюдпдщплевдщепдщпзтсдщыпцщхдщеждщппюитцстдющыпщпдтлппцпсппзппцпиппхдтцеппзщеппзтхдцтстдпжппщипцпппзпеипипдщсппзщеппюцпцтзпюппзлжиепдютипющзипдпзцпюжеювпдджхпщпдтлппцпспцщюждщежюеппдплжпппдппхщюищдевепютзвпжсижппдппцпдщевепцптцщц'"
            ],
            "application/vnd.google.colaboratory.intrinsic+json": {
              "type": "string"
            }
          },
          "metadata": {},
          "execution_count": 150
        }
      ]
    },
    {
      "cell_type": "code",
      "source": [
        "decoded_text = decode(test_part, war_peace_data)\n",
        "decoded_text"
      ],
      "metadata": {
        "colab": {
          "base_uri": "https://localhost:8080/",
          "height": 90
        },
        "id": "R0U2vVKaNR0t",
        "outputId": "0f20f996-9c7f-44b6-cc1f-6a4b14c55d68"
      },
      "execution_count": 151,
      "outputs": [
        {
          "output_type": "execute_result",
          "data": {
            "text/plain": [
              "'нелонец он оккернзксй с йосзокрек кнся  не  мерез лоскер не йкоeезле  лежексй  йозес ко ксйлоз скзйее зззе не мзко  зекйше йо мерезз  яе рейзшлоб  рйзоз с йкослоб слекоб ромлсб зззол кямсрексй к немо яемзк йро ззe  себзон сзокрек не —кок зззол сяйоз eсклок  омесe кезонеб  зеже  с  келозо ресскойнсй зожно мзко реязкй зекй  йко йойкс ксе  е зожек  с ксе зекййслс   кез янейск  йеремрекссй  йозекйше ок якерй  себзон сноке зкйнзк не мезнзю реякекснз  сзерзекшзю з незо йоз  мо лоз  якерй  мзк  меякрезен с жзкол  ом —коз незо мзко слореб соомeскй ксез себзон мроссксй кнся з незо йоз лешскекссй  нозс  он  яескеккйк семй сзкс  но локзкйк лоелел'"
            ],
            "application/vnd.google.colaboratory.intrinsic+json": {
              "type": "string"
            }
          },
          "metadata": {},
          "execution_count": 151
        }
      ]
    },
    {
      "cell_type": "code",
      "source": [
        "accuracy = accuracy_score(test_part, decoded_text)\n",
        "print(f'accuracy is {accuracy}')"
      ],
      "metadata": {
        "colab": {
          "base_uri": "https://localhost:8080/"
        },
        "id": "9bQEJSboNTjN",
        "outputId": "fa142cc9-1afe-42dd-de62-8284e971b789"
      },
      "execution_count": 152,
      "outputs": [
        {
          "output_type": "stream",
          "name": "stdout",
          "text": [
            "accuracy is 0.5194401244167963\n"
          ]
        }
      ]
    },
    {
      "cell_type": "markdown",
      "source": [
        "# 2. Биграммы\n",
        "Вряд ли в результате получилась такая уж хорошая расшифровка, разве что если вы брали в качестве тестовых данных целые рассказы. Но и Шерлок Холмс был не так уж прост: после буквы E, которая действительно выделяется частотой, дальше он анализировал уже конкретные слова и пытался угадать, какими они могли бы быть. Я не знаю, как запрограммировать такой интуитивный анализ, так что давайте просто сделаем следующий логический шаг:\n",
        "* подсчитайте частоты биграмм (т.е. пар последовательных букв) по корпусам;\n",
        "* проведите тестирование аналогично п.1, но при помощи биграмм."
      ],
      "metadata": {
        "id": "hOdVEsBwOOXC"
      }
    },
    {
      "cell_type": "code",
      "source": [
        "import nltk\n",
        "from nltk import bigrams\n",
        "\n",
        "def make_bigramms(text):\n",
        "    bigram_generator = bigrams(text.replace(' ', ''))\n",
        "    bigramms = [''.join(el) for el in bigram_generator]\n",
        "    return bigramms"
      ],
      "metadata": {
        "id": "CUgqm__cORdZ"
      },
      "execution_count": 153,
      "outputs": []
    },
    {
      "cell_type": "code",
      "source": [
        "def bigramms_decode(test_text, source_text):\n",
        "    test_part_bigramms = make_bigramms(test_text)\n",
        "    source_text_bigramms = make_bigramms(source_text)\n",
        "\n",
        "    sorted_test = most_common_letters(test_part_bigramms)\n",
        "\n",
        "    sorted_source = most_common_letters(source_text_bigramms)\n",
        "    vocab = dict(zip(sorted_test, sorted_source))\n",
        "\n",
        "    for test_letter, source_letter in vocab.items():\n",
        "        test_text = test_text.replace(test_letter, source_letter)\n",
        "\n",
        "    return test_text"
      ],
      "metadata": {
        "id": "n_Y4h2SAQ-VN"
      },
      "execution_count": 154,
      "outputs": []
    },
    {
      "cell_type": "code",
      "source": [
        "test_part"
      ],
      "metadata": {
        "colab": {
          "base_uri": "https://localhost:8080/",
          "height": 90
        },
        "id": "53zk8km7Qxgw",
        "outputId": "1e494e7f-61b2-45f4-e69f-1d035bbfc2da"
      },
      "execution_count": 156,
      "outputs": [
        {
          "output_type": "execute_result",
          "data": {
            "text/plain": [
              "'наконец он отвернулся и посмотрел вниз  на  берег костер на площадке  кажется  погас во всяком случае дыма не было  дальше по берегу  за речушкой  рядом с плоской скалой робкий дымок взбирался в небо забыв про мух  саймон смотрел на этот дымок изпод щитков  обеих ладоней  даже  с  такого расстояния можно было разгля деть  что почти все  а может  и все мальчики   там значит  перебрались  подальше от зверя  саймон снова глянул на бедную развалину  смердевшую у него под  бо ком  зверь  был  безвреден и жуток  об этом надо было скорей сообщить всем саймон бросился вниз у него под кашивались  ноги  он  заставлял себя идти  но ковылял коекак'"
            ],
            "application/vnd.google.colaboratory.intrinsic+json": {
              "type": "string"
            }
          },
          "metadata": {},
          "execution_count": 156
        }
      ]
    },
    {
      "cell_type": "code",
      "source": [
        "encoded_text = encode(test_part)\n",
        "encoded_text"
      ],
      "metadata": {
        "colab": {
          "base_uri": "https://localhost:8080/",
          "height": 90
        },
        "id": "qswiBrU6Qt1k",
        "outputId": "27a70ac9-38d5-4a5e-b653-76424171da8c"
      },
      "execution_count": 157,
      "outputs": [
        {
          "output_type": "execute_result",
          "data": {
            "text/plain": [
              "'ынхыыевжыыжынзеиызйжбжсжзыжцыниейжзысщжжынжжлеиебжхыжнеижынжзйытннхежжхнхенжбжжзыбнжжзыжзжбхыцжжйзрнежнццнжыежлцйыжжннййяежзыжлеиебзжжщнжиерзяхыюжжибныцжжжзйыжхыюжжхнйыюжиылхсюжнццыхжзщлсинйжбжзжыелыжщнлцзжзиыжцзяжжжнюцыыжжцыниейжынжлнынжнццыхжсщзынжтснхызжжылесяжйнныыеюжжннхежжжжжннхыбыжинжжныбысбжцыхыыжлцйыжинщбйбжненйжжрныжзырнсжзжежжнжцыхенжжсжзжежцнййрсхсжжжннцжщынрснжжзеиелинйсжйжжзыннййяежынжщзеибжжжнюцыыжжыызнжбйбызйжынжленызржинщзнйсызжжжцеинезязржзжыебыжзынжжлыжхыцжжщзеийжжлцйжжлещзиенеыжсжхзныхжжылжлныцжынныжлцйыжжхыиеюжжыылтснйжзжецжжнюцыыжлиыжсйжбжзысщжзжыебыжзынжхнясзнйсжйжжыыбсжжыыжжщнжннзйбйжжелбжсннсжжыыжхызцйбйжхыехнх'"
            ],
            "application/vnd.google.colaboratory.intrinsic+json": {
              "type": "string"
            }
          },
          "metadata": {},
          "execution_count": 157
        }
      ]
    },
    {
      "cell_type": "code",
      "source": [
        "decoded_text = bigramms_decode(test_part, war_peace_data)\n",
        "decoded_text"
      ],
      "metadata": {
        "colab": {
          "base_uri": "https://localhost:8080/",
          "height": 90
        },
        "id": "uiq2u6O8Qy62",
        "outputId": "d8a7a4c5-8d5f-47bf-c674-292a7cbfbd09"
      },
      "execution_count": 158,
      "outputs": [
        {
          "output_type": "execute_result",
          "data": {
            "text/plain": [
              "'кузмупц он узвкобылтс и вейрудвум ваче  ко  зьору тузийо ко ппянмиир  узньупн  нягей тр упнттр умькеб бндп ко ожял  двсбре ня зьоруу  ет вряоштый  ддвтр с ппузтый мумубр рлодии берче ичглрвстс в коад етокя пмо тых  егнысс срудвум ко лууз берче ядими щетйсг  леглх лмимоле  донь  с  ойлиый леэтмькаая режйс ожял ачехсд дудь  чты нячль обр  а рщевт  и обр мяксуснт   ойм зкабет  пкупнувсэть  вмиыйбре уз рлугр  егнысс умвня всдрял ко оицряю лряиыйибы  смколехшше у купо вми  ад ттр  рлуоь  лол  оряумубрн и житмо  йс лыср коло ожял стыдве цейсщехо обрй егнысс шсмксмтс ваче у купо вми узшцежсэть  йссн  он  озищетибл цейя двль  йс тыупдсм тытнрк'"
            ],
            "application/vnd.google.colaboratory.intrinsic+json": {
              "type": "string"
            }
          },
          "metadata": {},
          "execution_count": 158
        }
      ]
    },
    {
      "cell_type": "code",
      "source": [
        "accuracy = accuracy_score(test_part, decoded_text)\n",
        "print(f'accuracy is {accuracy}')"
      ],
      "metadata": {
        "colab": {
          "base_uri": "https://localhost:8080/"
        },
        "id": "MprPH245SFZh",
        "outputId": "521b4b80-b744-417b-d5e5-4fd5c8b3f869"
      },
      "execution_count": 159,
      "outputs": [
        {
          "output_type": "stream",
          "name": "stdout",
          "text": [
            "accuracy is 0.3312597200622084\n"
          ]
        }
      ]
    },
    {
      "cell_type": "code",
      "source": [
        ""
      ],
      "metadata": {
        "id": "7SSNlC9LUHr0"
      },
      "execution_count": null,
      "outputs": []
    }
  ]
}