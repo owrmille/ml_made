{
 "cells": [
  {
   "cell_type": "markdown",
   "metadata": {
    "id": "78kC2A3APpxf"
   },
   "source": [
    "# Домашнее задание №2"
   ]
  },
  {
   "cell_type": "code",
   "execution_count": 58,
   "metadata": {
    "id": "dtW_QVVqSikA"
   },
   "outputs": [],
   "source": [
    "import matplotlib.pyplot as plt\n",
    "import numpy as np\n",
    "import pandas as pd\n",
    "import pickle\n",
    "from scipy import stats\n",
    "from sklearn.linear_model import LogisticRegression\n",
    "from sklearn.metrics import accuracy_score\n",
    "from sklearn.preprocessing import OneHotEncoder\n",
    "from tqdm import tqdm"
   ]
  },
  {
   "cell_type": "markdown",
   "metadata": {
    "id": "IXMjgJGdToCz"
   },
   "source": [
    "## 1. Чтение и анализ данных"
   ]
  },
  {
   "cell_type": "markdown",
   "metadata": {
    "id": "GeQGc5CHTR-S"
   },
   "source": [
    "Прочитайте и проанализируйте данные, выберите турниры, в которых есть данные о составах команд и повопросных результатах (поле mask в results.pkl). Для унификации:\n",
    "* взять в тренировочный набор турниры с dateStart из 2019 года; \n",
    "* в тестовый — турниры с dateStart из 2020 года.\n"
   ]
  },
  {
   "cell_type": "code",
   "execution_count": 1,
   "metadata": {
    "colab": {
     "base_uri": "https://localhost:8080/"
    },
    "id": "gZttlsH3RFqY",
    "outputId": "b5ffe1fd-0498-4805-9d90-f4deefb3ad49"
   },
   "outputs": [
    {
     "name": "stdout",
     "output_type": "stream",
     "text": [
      "Reading package lists... Done\n",
      "Building dependency tree       \n",
      "Reading state information... Done\n",
      "unzip is already the newest version (6.0-21ubuntu1.1).\n",
      "0 upgraded, 0 newly installed, 0 to remove and 40 not upgraded.\n"
     ]
    }
   ],
   "source": [
    "# !apt install unzip"
   ]
  },
  {
   "cell_type": "code",
   "execution_count": 92,
   "metadata": {
    "id": "l_27IA4ARZkn"
   },
   "outputs": [],
   "source": [
    "# FILES_PATH = \"drive/MyDrive/2-ml_hw2/\""
   ]
  },
  {
   "cell_type": "code",
   "execution_count": 1,
   "metadata": {
    "colab": {
     "base_uri": "https://localhost:8080/"
    },
    "id": "FANMpz1yRMA8",
    "outputId": "af0f2956-bfd6-42b9-863e-cba48b17b6c6"
   },
   "outputs": [
    {
     "name": "stdout",
     "output_type": "stream",
     "text": [
      "Archive:  ./chgk.zip\n",
      "  inflating: ./players.pkl           \n",
      "  inflating: ./results.pkl           \n",
      "  inflating: ./tournaments.pkl       \n"
     ]
    }
   ],
   "source": [
    "!unzip \"./chgk.zip\" -d \"./\""
   ]
  },
  {
   "cell_type": "code",
   "execution_count": 5,
   "metadata": {
    "id": "cbKWxuYL2_TQ"
   },
   "outputs": [],
   "source": [
    "with open('./players.pkl', 'rb') as f:\n",
    "    players = pd.DataFrame(pickle.load(f)).T   \n",
    "with open('./results.pkl', 'rb') as f:\n",
    "    results = pickle.load(f)\n",
    "with open('./tournaments.pkl', 'rb') as f:\n",
    "    tournaments = pickle.load(f)"
   ]
  },
  {
   "cell_type": "code",
   "execution_count": 6,
   "metadata": {
    "id": "umoYW-ZMcB9_"
   },
   "outputs": [],
   "source": [
    "df_players = pd.DataFrame.from_dict(players).set_index('id')\n",
    "df_tournaments = pd.DataFrame.from_dict(tournaments, orient='index').set_index('id')"
   ]
  },
  {
   "cell_type": "markdown",
   "metadata": {
    "id": "CBkpV7zug59C"
   },
   "source": [
    "Выкидываем записи с пропущенными данными о вопросах, а также записи, где фигурируют 'X' или '?' вместо вопроса. Делим данные на трейн и тест по дате, оставляем нужные переменные.\n",
    "\n"
   ]
  },
  {
   "cell_type": "code",
   "execution_count": 7,
   "metadata": {
    "id": "DXEI5aGhTHxb"
   },
   "outputs": [],
   "source": [
    "def skip_flag(quest_tags):\n",
    "    flag = 0\n",
    "    if len(quest_tags) > 2:\n",
    "        flag += 1\n",
    "    if 'X' in quest_tags or '?' in quest_tags:\n",
    "        flag += 1\n",
    "    return flag\n",
    "\n",
    "def create_team_dict(team, team_temp):\n",
    "    team['id'] = team_temp['team']['id']\n",
    "    team['name'] = team_temp['team']['name']\n",
    "    team['position'] = team_temp['position']\n",
    "    team['mask'] = team_temp['mask']\n",
    "    team['questions_amount'] = len(team_temp['mask'])\n",
    "    team_members = []\n",
    "    for team_member in team_temp['teamMembers']:\n",
    "        team_members.append(team_member['player']['id'])\n",
    "    team['team_members'] = team_members\n",
    "    return team\n",
    "\n",
    "def find_teams_result(result):\n",
    "    teams = []\n",
    "    questions_amount = set()\n",
    "    for team_temp in result:\n",
    "        team = {}\n",
    "        if not team_temp.get('mask'):\n",
    "            return None\n",
    "        questions_amount.add(len(team_temp.get('mask')))\n",
    "        quest_tags = set(team_temp.get('mask'))\n",
    "        if skip_flag(quest_tags) != 0 :\n",
    "            continue\n",
    "        team = create_team_dict(team, team_temp)      \n",
    "        teams.append(team)\n",
    "    if len(questions_amount) != 1:\n",
    "        return None\n",
    "    return teams\n",
    "\n",
    "def train_test_split_data(results, tournaments):        \n",
    "    data_train = []\n",
    "    data_test = []      \n",
    "    for id_tour in results:\n",
    "        tour = {}\n",
    "        if not results[id_tour] or len(results[id_tour]) < 1:\n",
    "            continue\n",
    "        date_start = tournaments[id_tour]['dateStart']\n",
    "        year_tour = pd.to_datetime(date_start).year\n",
    "        if year_tour not in [2019, 2020]:\n",
    "            continue\n",
    "        teams_result = find_teams_result(results[id_tour])\n",
    "        if not teams_result:\n",
    "            continue\n",
    "        tour['id'] = id_tour\n",
    "        tour['teams'] = teams_result\n",
    "\n",
    "        if year_tour == 2019:\n",
    "            data_train.append(tour)\n",
    "        elif year_tour == 2020:\n",
    "            data_test.append(tour)\n",
    "    return data_train, data_test"
   ]
  },
  {
   "cell_type": "code",
   "execution_count": 8,
   "metadata": {
    "colab": {
     "base_uri": "https://localhost:8080/"
    },
    "id": "LR9ienew_yCi",
    "outputId": "ec65e88c-b758-407c-ec43-8828fb3596e3"
   },
   "outputs": [
    {
     "name": "stdout",
     "output_type": "stream",
     "text": [
      "Размер трейна: 601 и теста: 152\n"
     ]
    }
   ],
   "source": [
    "data_train, data_test = train_test_split_data(results, tournaments)\n",
    "print('Размер трейна:', len(data_train), 'и теста:', len(data_test))"
   ]
  },
  {
   "cell_type": "code",
   "execution_count": 9,
   "metadata": {
    "colab": {
     "base_uri": "https://localhost:8080/",
     "height": 281
    },
    "id": "aKcq2zVnWzaS",
    "outputId": "5b5a264a-0285-4849-bd8e-8345dc3af44d"
   },
   "outputs": [
    {
     "data": {
      "image/png": "[encoded data removed]",
      "text/plain": [
       "<Figure size 432x288 with 1 Axes>"
      ]
     },
     "metadata": {
      "needs_background": "light"
     },
     "output_type": "display_data"
    }
   ],
   "source": [
    "teams_amounts = []\n",
    "for tour in data_train:\n",
    "    teams_amount = len(tour['teams'])\n",
    "    teams_amounts.append(teams_amount)\n",
    "plt.hist(teams_amounts, bins=20)\n",
    "plt.title('Число команд (train)')\n",
    "plt.show()"
   ]
  },
  {
   "cell_type": "code",
   "execution_count": 10,
   "metadata": {
    "colab": {
     "base_uri": "https://localhost:8080/",
     "height": 281
    },
    "id": "p_O3TN5MVSqZ",
    "outputId": "a1f42f53-7da7-4f12-d24a-7004d35b087c"
   },
   "outputs": [
    {
     "data": {
      "image/png": "[encoded data removed]",
      "text/plain": [
       "<Figure size 432x288 with 1 Axes>"
      ]
     },
     "metadata": {
      "needs_background": "light"
     },
     "output_type": "display_data"
    }
   ],
   "source": [
    "questions_amounts = []\n",
    "for tour in data_train:\n",
    "    questions_amount = len(tour['teams'][0]['mask'])\n",
    "    questions_amounts.append(questions_amount)\n",
    "plt.hist(questions_amounts, bins=20)\n",
    "plt.title('Число вопросов (train)')\n",
    "plt.show()"
   ]
  },
  {
   "cell_type": "code",
   "execution_count": 11,
   "metadata": {
    "colab": {
     "base_uri": "https://localhost:8080/",
     "height": 281
    },
    "id": "f5AoV1OkX4iM",
    "outputId": "82e4c43d-8c26-4b95-92db-b5cbcdae8789"
   },
   "outputs": [
    {
     "data": {
      "image/png": "[encoded data removed]",
      "text/plain": [
       "<Figure size 432x288 with 1 Axes>"
      ]
     },
     "metadata": {
      "needs_background": "light"
     },
     "output_type": "display_data"
    }
   ],
   "source": [
    "right_answer_amounts = []\n",
    "for tour in data_train:\n",
    "  for team in tour['teams']:\n",
    "    right_answer_amount = sum([int(el) for el in team['mask']])\n",
    "    right_answer_amounts.append(right_answer_amount)\n",
    "plt.hist(right_answer_amounts, bins=20)\n",
    "plt.title('Правильные ответы (train)')\n",
    "plt.show()"
   ]
  },
  {
   "cell_type": "code",
   "execution_count": 12,
   "metadata": {
    "colab": {
     "base_uri": "https://localhost:8080/",
     "height": 281
    },
    "id": "ZHPDZJVqZNrm",
    "outputId": "37419bb7-a83f-4d99-e6b8-c812d12963e7"
   },
   "outputs": [
    {
     "data": {
      "image/png": "[encoded data removed]",
      "text/plain": [
       "<Figure size 432x288 with 1 Axes>"
      ]
     },
     "metadata": {
      "needs_background": "light"
     },
     "output_type": "display_data"
    }
   ],
   "source": [
    "wrong_answer_amounts = []\n",
    "for tour in data_train:\n",
    "  for team in tour['teams']:\n",
    "    wrong_answer_amount = [int(el) for el in team['mask']].count(0)\n",
    "    wrong_answer_amounts.append(wrong_answer_amount)\n",
    "plt.hist(wrong_answer_amounts, bins=20)\n",
    "plt.title('Неправильные ответы (train)')\n",
    "plt.show()"
   ]
  },
  {
   "cell_type": "markdown",
   "metadata": {
    "id": "r2TdFCdzgPXe"
   },
   "source": [
    "## 2. Baseline-модель"
   ]
  },
  {
   "cell_type": "markdown",
   "metadata": {
    "id": "rkhOCYl4ganX"
   },
   "source": [
    "Постройте baseline-модель на основе линейной или логистической регрессии, которая будет обучать рейтинг-лист игроков. Замечания и подсказки:\n",
    "* повопросные результаты — это фактически результаты броска монетки, и их предсказание скорее всего имеет отношение к бинарной классификации;\n",
    "* в разных турнирах вопросы совсем разного уровня сложности, поэтому модель должна это учитывать; скорее всего, модель должна будет явно обучать не только силу каждого игрока, но и сложность каждого вопроса;\n",
    "* для baseline-модели можно забыть о командах и считать, что повопросные результаты команды просто относятся к каждому из её игроков.\n"
   ]
  },
  {
   "cell_type": "code",
   "execution_count": 13,
   "metadata": {
    "id": "N3BJuycjjTU2"
   },
   "outputs": [],
   "source": [
    "df_data = []\n",
    "for tour in data_train:\n",
    "    tour_id = tour['id']\n",
    "    for team in tour['teams']:\n",
    "        answers = [int(el) for el in team['mask']]\n",
    "        members = team['team_members']\n",
    "        for question_num in range(len(answers)):\n",
    "            for member in members:\n",
    "                new_row = {'member': member, 'tour_id': tour_id, 'question_num': question_num + 1, 'question_status': answers[question_num]}\n",
    "                df_data.append(new_row)"
   ]
  },
  {
   "cell_type": "code",
   "execution_count": 16,
   "metadata": {
    "colab": {
     "base_uri": "https://localhost:8080/",
     "height": 441
    },
    "id": "CMAe72pgyVEk",
    "outputId": "7edd0843-26d1-4f24-a16f-26bdaef5913b"
   },
   "outputs": [
    {
     "name": "stderr",
     "output_type": "stream",
     "text": [
      "100%|██████████| 13715187/13715187 [00:09<00:00, 1392590.35it/s]\n"
     ]
    },
    {
     "data": {
      "text/html": [
       "<div>\n",
       "<style scoped>\n",
       "    .dataframe tbody tr th:only-of-type {\n",
       "        vertical-align: middle;\n",
       "    }\n",
       "\n",
       "    .dataframe tbody tr th {\n",
       "        vertical-align: top;\n",
       "    }\n",
       "\n",
       "    .dataframe thead th {\n",
       "        text-align: right;\n",
       "    }\n",
       "</style>\n",
       "<table border=\"1\" class=\"dataframe\">\n",
       "  <thead>\n",
       "    <tr style=\"text-align: right;\">\n",
       "      <th></th>\n",
       "      <th>member</th>\n",
       "      <th>tour_id</th>\n",
       "      <th>question_num</th>\n",
       "      <th>question_status</th>\n",
       "    </tr>\n",
       "  </thead>\n",
       "  <tbody>\n",
       "    <tr>\n",
       "      <th>0</th>\n",
       "      <td>6212</td>\n",
       "      <td>4772</td>\n",
       "      <td>1</td>\n",
       "      <td>1</td>\n",
       "    </tr>\n",
       "    <tr>\n",
       "      <th>1</th>\n",
       "      <td>18332</td>\n",
       "      <td>4772</td>\n",
       "      <td>1</td>\n",
       "      <td>1</td>\n",
       "    </tr>\n",
       "    <tr>\n",
       "      <th>2</th>\n",
       "      <td>18036</td>\n",
       "      <td>4772</td>\n",
       "      <td>1</td>\n",
       "      <td>1</td>\n",
       "    </tr>\n",
       "    <tr>\n",
       "      <th>3</th>\n",
       "      <td>22799</td>\n",
       "      <td>4772</td>\n",
       "      <td>1</td>\n",
       "      <td>1</td>\n",
       "    </tr>\n",
       "    <tr>\n",
       "      <th>4</th>\n",
       "      <td>15456</td>\n",
       "      <td>4772</td>\n",
       "      <td>1</td>\n",
       "      <td>1</td>\n",
       "    </tr>\n",
       "    <tr>\n",
       "      <th>...</th>\n",
       "      <td>...</td>\n",
       "      <td>...</td>\n",
       "      <td>...</td>\n",
       "      <td>...</td>\n",
       "    </tr>\n",
       "    <tr>\n",
       "      <th>13715182</th>\n",
       "      <td>217855</td>\n",
       "      <td>6191</td>\n",
       "      <td>36</td>\n",
       "      <td>0</td>\n",
       "    </tr>\n",
       "    <tr>\n",
       "      <th>13715183</th>\n",
       "      <td>217856</td>\n",
       "      <td>6191</td>\n",
       "      <td>36</td>\n",
       "      <td>0</td>\n",
       "    </tr>\n",
       "    <tr>\n",
       "      <th>13715184</th>\n",
       "      <td>217857</td>\n",
       "      <td>6191</td>\n",
       "      <td>36</td>\n",
       "      <td>0</td>\n",
       "    </tr>\n",
       "    <tr>\n",
       "      <th>13715185</th>\n",
       "      <td>217858</td>\n",
       "      <td>6191</td>\n",
       "      <td>36</td>\n",
       "      <td>0</td>\n",
       "    </tr>\n",
       "    <tr>\n",
       "      <th>13715186</th>\n",
       "      <td>217859</td>\n",
       "      <td>6191</td>\n",
       "      <td>36</td>\n",
       "      <td>0</td>\n",
       "    </tr>\n",
       "  </tbody>\n",
       "</table>\n",
       "<p>13715187 rows × 4 columns</p>\n",
       "</div>"
      ],
      "text/plain": [
       "          member  tour_id  question_num  question_status\n",
       "0           6212     4772             1                1\n",
       "1          18332     4772             1                1\n",
       "2          18036     4772             1                1\n",
       "3          22799     4772             1                1\n",
       "4          15456     4772             1                1\n",
       "...          ...      ...           ...              ...\n",
       "13715182  217855     6191            36                0\n",
       "13715183  217856     6191            36                0\n",
       "13715184  217857     6191            36                0\n",
       "13715185  217858     6191            36                0\n",
       "13715186  217859     6191            36                0\n",
       "\n",
       "[13715187 rows x 4 columns]"
      ]
     },
     "execution_count": 16,
     "metadata": {},
     "output_type": "execute_result"
    }
   ],
   "source": [
    "members = []\n",
    "tour_ids = []\n",
    "question_nums = []\n",
    "question_statuses = []\n",
    "for i in tqdm(range(len(df_data))):\n",
    "    members.append(df_data[i]['member'])\n",
    "    tour_ids.append(df_data[i]['tour_id'])\n",
    "    question_nums.append(df_data[i]['question_num'])\n",
    "    question_statuses.append(df_data[i]['question_status'])\n",
    "\n",
    "df = pd.DataFrame({'member': members, 'tour_id': tour_ids, 'question_num': question_nums, 'question_status': question_statuses})\n",
    "df"
   ]
  },
  {
   "cell_type": "code",
   "execution_count": 17,
   "metadata": {
    "id": "jf8gvhRs05hv"
   },
   "outputs": [],
   "source": [
    "members_data = np.array(df)\n",
    "X_train, y_train = members_data[:, :3], members_data[:, 3].astype(bool)\n",
    "\n",
    "encoder = OneHotEncoder()\n",
    "X_train_onehot = encoder.fit_transform(X_train)"
   ]
  },
  {
   "cell_type": "code",
   "execution_count": 20,
   "metadata": {
    "id": "WUL0eZY81fRs"
   },
   "outputs": [
    {
     "data": {
      "text/plain": [
       "0.658444175788489"
      ]
     },
     "execution_count": 20,
     "metadata": {},
     "output_type": "execute_result"
    }
   ],
   "source": [
    "lr = LogisticRegression(solver='saga', random_state=5)\n",
    "lr.fit(X_train_onehot, y_train)\n",
    "\n",
    "accuracy_score(lr.predict(X_train_onehot), y_train)"
   ]
  },
  {
   "cell_type": "markdown",
   "metadata": {},
   "source": [
    "Топ-10 игроков"
   ]
  },
  {
   "cell_type": "code",
   "execution_count": 44,
   "metadata": {},
   "outputs": [
    {
     "data": {
      "text/html": [
       "<div>\n",
       "<style scoped>\n",
       "    .dataframe tbody tr th:only-of-type {\n",
       "        vertical-align: middle;\n",
       "    }\n",
       "\n",
       "    .dataframe tbody tr th {\n",
       "        vertical-align: top;\n",
       "    }\n",
       "\n",
       "    .dataframe thead th {\n",
       "        text-align: right;\n",
       "    }\n",
       "</style>\n",
       "<table border=\"1\" class=\"dataframe\">\n",
       "  <thead>\n",
       "    <tr style=\"text-align: right;\">\n",
       "      <th></th>\n",
       "      <th>member</th>\n",
       "      <th>tour_id</th>\n",
       "      <th>question_num</th>\n",
       "      <th>question_status</th>\n",
       "    </tr>\n",
       "  </thead>\n",
       "  <tbody>\n",
       "    <tr>\n",
       "      <th>27403</th>\n",
       "      <td>158734</td>\n",
       "      <td>4772</td>\n",
       "      <td>20</td>\n",
       "      <td>0</td>\n",
       "    </tr>\n",
       "    <tr>\n",
       "      <th>4270</th>\n",
       "      <td>171798</td>\n",
       "      <td>4772</td>\n",
       "      <td>28</td>\n",
       "      <td>0</td>\n",
       "    </tr>\n",
       "    <tr>\n",
       "      <th>28751</th>\n",
       "      <td>183347</td>\n",
       "      <td>4772</td>\n",
       "      <td>4</td>\n",
       "      <td>1</td>\n",
       "    </tr>\n",
       "    <tr>\n",
       "      <th>27822</th>\n",
       "      <td>98697</td>\n",
       "      <td>4772</td>\n",
       "      <td>18</td>\n",
       "      <td>1</td>\n",
       "    </tr>\n",
       "    <tr>\n",
       "      <th>30152</th>\n",
       "      <td>125567</td>\n",
       "      <td>4772</td>\n",
       "      <td>15</td>\n",
       "      <td>0</td>\n",
       "    </tr>\n",
       "    <tr>\n",
       "      <th>30270</th>\n",
       "      <td>132214</td>\n",
       "      <td>4772</td>\n",
       "      <td>6</td>\n",
       "      <td>1</td>\n",
       "    </tr>\n",
       "    <tr>\n",
       "      <th>18036</th>\n",
       "      <td>27042</td>\n",
       "      <td>4772</td>\n",
       "      <td>1</td>\n",
       "      <td>1</td>\n",
       "    </tr>\n",
       "    <tr>\n",
       "      <th>20691</th>\n",
       "      <td>32345</td>\n",
       "      <td>4772</td>\n",
       "      <td>11</td>\n",
       "      <td>1</td>\n",
       "    </tr>\n",
       "    <tr>\n",
       "      <th>22799</th>\n",
       "      <td>23539</td>\n",
       "      <td>4772</td>\n",
       "      <td>26</td>\n",
       "      <td>0</td>\n",
       "    </tr>\n",
       "    <tr>\n",
       "      <th>26089</th>\n",
       "      <td>35769</td>\n",
       "      <td>4772</td>\n",
       "      <td>6</td>\n",
       "      <td>1</td>\n",
       "    </tr>\n",
       "  </tbody>\n",
       "</table>\n",
       "</div>"
      ],
      "text/plain": [
       "       member  tour_id  question_num  question_status\n",
       "27403  158734     4772            20                0\n",
       "4270   171798     4772            28                0\n",
       "28751  183347     4772             4                1\n",
       "27822   98697     4772            18                1\n",
       "30152  125567     4772            15                0\n",
       "30270  132214     4772             6                1\n",
       "18036   27042     4772             1                1\n",
       "20691   32345     4772            11                1\n",
       "22799   23539     4772            26                0\n",
       "26089   35769     4772             6                1"
      ]
     },
     "execution_count": 44,
     "metadata": {},
     "output_type": "execute_result"
    }
   ],
   "source": [
    "categ = encoder.categories_[0]\n",
    "power = lr.coef_.ravel()[:encoder.categories_[0].shape[0]]\n",
    "full = np.vstack([categ.astype(int), power.astype(float)]).T\n",
    "top = full[full[:, 1].argsort()][::-1][:10, 0]\n",
    "df.loc[top.astype(int)]"
   ]
  },
  {
   "cell_type": "markdown",
   "metadata": {},
   "source": [
    "## 3. Оценка качества модели"
   ]
  },
  {
   "cell_type": "markdown",
   "metadata": {},
   "source": [
    "Качество рейтинг-системы оценивается качеством предсказаний результатов турниров. Но сами повопросные результаты наши модели предсказывать вряд ли смогут, ведь неизвестно, насколько сложными окажутся вопросы в будущих турнирах; да и не нужны эти предсказания сами по себе. Поэтому:\n",
    "* предложите способ предсказать результаты нового турнира с известными составами, но неизвестными вопросами, в виде ранжирования команд;\n",
    "* в качестве метрики качества на тестовом наборе давайте считать ранговые корреляции Спирмена и Кендалла (их можно взять в пакете scipy) между реальным ранжированием в результатах турнира и предсказанным моделью, усреднённые по тестовому множеству турниров"
   ]
  }
 ],
 "metadata": {
  "colab": {
   "name": "adwanced_ml_hw2.ipynb",
   "provenance": []
  },
  "kernelspec": {
   "display_name": "Python 3",
   "language": "python",
   "name": "python3"
  },
  "language_info": {
   "codemirror_mode": {
    "name": "ipython",
    "version": 3
   },
   "file_extension": ".py",
   "mimetype": "text/x-python",
   "name": "python",
   "nbconvert_exporter": "python",
   "pygments_lexer": "ipython3",
   "version": "3.7.6"
  }
 },
 "nbformat": 4,
 "nbformat_minor": 1
}
